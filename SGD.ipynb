{
 "cells": [
  {
   "cell_type": "markdown",
   "metadata": {},
   "source": [
    "# Implementando nosso sistema de recomendação em Python usando Gradiente Descendente Estocástico (SGD)"
   ]
  },
  {
   "cell_type": "markdown",
   "metadata": {},
   "source": [
    "SGD e ALS são dois algoritmos amplamente utilizados para fatorar a matriz de scores (usuário x item) em duas matrizes de dimensões menores, com o benefício de fazer as atualizações do modelo mais fáceis.\n",
    "\n",
    "*Recapitulando algumas coisas*:\n",
    "- **Filtragem Colaborativa** tem como principal vantagem o fato de ser capaz de recomendar itens complexos sem nenhum conhecimento anterior do item.\n",
    "- **Baseados em Memória** usam a **similaridade** entre itens ou usuários, ex. usando a similaridade de cossenos.  \n",
    "- **Baseados em Modelos** usam fatoração de matrizes.\n",
    "\n",
    " *O objetivo principal do algoritmo de fatoração de matrizes é modelar os ratings preditos através da minimização do erro quadrático relativo à matriz de fatores latentes de usuário $P$ e a matriz de fatores latentes de itens $Q$, sobre o conjunto de ratings reais:\n",
    "\n",
    "<img src=\"https://latex.codecogs.com/gif.latex?\\underset{Q*&space;,&space;P*}{min}\\sum_{(u,i)\\epsilon&space;K&space;}(r_{ui}-P_u^TQ_i)^2&plus;\\lambda(\\left&space;\\|&space;Q_i&space;\\right&space;\\|^2&space;&plus;&space;\\left&space;\\|&space;P_u&space;\\right&space;\\|^2)$&space;&space;$(1)\" title=\"\\underset{q* , p*}{min}\\sum_{(u,i)\\epsilon K }(r_{ui}-q_i^Tp_u)^2+\\lambda(\\left \\| q_i \\right \\|^2 + \\left \\| p_u \\right \\|^2)\" />\n",
    "\n",
    "Onde $K$ é um conjunto de pares $(u,i)$ tal que o rating é conhecido no conjunto de treino: por exemplo, $r_{ui}$ é o rating do item $i$ dado pelo usuário $u$ no conjunto de treino, e $\\lambda$ é o parâmetro de regularização para evitar overfiting. O erro quadrático regularizado é a **função de perda** que você almeja minimizar. Depois de estimados $P$ e $Q$ através da minimização do erro quadrático, é possível prever os ratings desconhecidos pelo produto escalar dos fatores latentes dos usuários e dos itens.\n",
    "\n",
    "O **gradiente descendente estocástico (SGD)** ou **método dos mínimos quadrados alternados (ALS)** pode ser aplicado para minimizar a função de perda. Ambos *SGD* e *ALS* podem ser usados para aprendizagem em tempo real, ou seja, atualizar o modelo de maneira incremental a cada vez que um novo rating é registrado."
   ]
  },
  {
   "cell_type": "markdown",
   "metadata": {},
   "source": [
    "## Pré-processamento"
   ]
  },
  {
   "cell_type": "markdown",
   "metadata": {},
   "source": [
    "Aqui será utilizado o dataset MovieLens, onde você deve adicionar os arquivos descompactados do dataset em sua pasta de trabalho do Jupyter Notebook. O dataset pode ser baixado [aqui](http://files.grouplens.org/datasets/movielens/ml-100k.zip).\n",
    "Primeiro, leia o arquivo **u.data** que contém o dataset completo. Uma descrição rápida do dataset pode ser encontrada [aqui](http://files.grouplens.org/datasets/movielens/ml-100k-README.txt)."
   ]
  },
  {
   "cell_type": "code",
   "execution_count": 1,
   "metadata": {},
   "outputs": [
    {
     "name": "stdout",
     "output_type": "stream",
     "text": [
      "Number of users = 943 | Number of movies = 1682\n"
     ]
    }
   ],
   "source": [
    "import numpy as np\n",
    "import pandas as pd\n",
    "header = ['user_id', 'item_id', 'rating', 'timestamp']\n",
    "df = pd.read_csv('./ml-100k/u.data', sep='\\t', names=header)\n",
    "n_users = df.user_id.unique().shape[0]\n",
    "n_items = df.item_id.unique().shape[0]\n",
    "print ('Number of users = ' + str(n_users) + ' | Number of movies = ' + str(n_items))  "
   ]
  },
  {
   "cell_type": "markdown",
   "metadata": {
    "collapsed": true
   },
   "source": [
    "Você pode usar a biblioteca do [`scikit-learn`](http://scikit-learn.org/stable/) para dividir o dataset em duas porções de treino e teste. \n",
    "Ela mistura e divide os dados em dois datasets de acordo com a percentagem de exemplos de teste (``test_size``), que nesse caso é 0.25. O próximo passo será criar a matriz de ratings. Como teremos dados de treino e teste será necessário a criação de duas matrizes."
   ]
  },
  {
   "cell_type": "code",
   "execution_count": 2,
   "metadata": {},
   "outputs": [],
   "source": [
    "from sklearn.model_selection import train_test_split\n",
    "train_data, test_data = train_test_split(df,test_size=0.25)\n",
    "\n",
    "train_data = pd.DataFrame(train_data)\n",
    "test_data = pd.DataFrame(test_data)\n",
    "\n",
    "# Create training and test matrix\n",
    "R = np.zeros((n_users, n_items))\n",
    "for line in train_data.itertuples():\n",
    "    R[line[1]-1, line[2]-1] = line[3]  \n",
    "\n",
    "T = np.zeros((n_users, n_items))\n",
    "for line in test_data.itertuples():\n",
    "    T[line[1]-1, line[2]-1] = line[3]"
   ]
  },
  {
   "cell_type": "markdown",
   "metadata": {},
   "source": [
    "As matrizes $I$ e $I2$ servirão como um seletor de matrizes, elas separarão os ratings apropriados de acordo com a atualização das equações durante o treino sobre o dataset de treino (usando $I$) e de predição sobre o dataset de teste (usando $I2$)."
   ]
  },
  {
   "cell_type": "code",
   "execution_count": 3,
   "metadata": {
    "collapsed": true
   },
   "outputs": [],
   "source": [
    "# Index matrix for training data\n",
    "I = R.copy()\n",
    "I[I > 0] = 1\n",
    "I[I == 0] = 0\n",
    "\n",
    "# Index matrix for test data\n",
    "I2 = T.copy()\n",
    "I2[I2 > 0] = 1\n",
    "I2[I2 == 0] = 0"
   ]
  },
  {
   "cell_type": "markdown",
   "metadata": {},
   "source": [
    "## Gradiente Descendente Estocástico com Regularização por Lambda Ponderado (SGD-WR)\n",
    "\n",
    "Ao utilizar Filtragem Colaborativa com Gradiente Descendente Estocástico, é necessário estimar duas matrizes - a matriz de fatores latentes do usuário $P$ e a matriz de fatores latentes dos itens $Q$. Após estimadas $P$ e $Q$, podem ser preditos os ratings desconhecidos através do produto escalar das matrizes de fatores latentes de usuário e item. <img src=\"https://latex.codecogs.com/gif.latex?\\hat&space;r_{ui}=P_u^TQ_i$&space;&space;$(2)\" title=\"\\hat r_{ui}=p_u^Tq_i\" />"
   ]
  },
  {
   "cell_type": "code",
   "execution_count": 4,
   "metadata": {
    "collapsed": true
   },
   "outputs": [],
   "source": [
    "# Predict the unknown ratings through the dot product of the latent features for users and items \n",
    "def prediction(P,Q):\n",
    "    return np.dot(P.T,Q)"
   ]
  },
  {
   "cell_type": "markdown",
   "metadata": {},
   "source": [
    "#### Definição matemática do gradiente descendente estocástico quando utilizado para minimizar o erro quadrático regularizado (função de perda):\n",
    "\n",
    "Para atualizar $P$ e $Q$, pode-se utilizar o gradiente descendente estocástico onde tu itera sobre cada observação (linha) no conjunto de treino e atualiza $Q$ e $P$ da seguinte maneira:\n",
    "<img src=\"https://latex.codecogs.com/gif.latex?Q_{i&plus;1}&space;=&space;Q_i&space;&plus;&space;\\gamma&space;(e_{ui}\\cdot&space;P_u-\\lambda\\cdot&space;Q_i)$&space;&space;$(3)\" title=\"Q_{i+1} = Q_i + \\gamma (e_{ui}\\cdot P_u-\\lambda\\cdot Q_i)\" />\n",
    "\n",
    "<img src=\"https://latex.codecogs.com/gif.latex?P_{u&plus;1}&space;=&space;P_u&space;&plus;&space;\\gamma&space;(e_{ui}\\cdot&space;Q_i-\\lambda\\cdot&space;P_u)$&space;&space;$(4)\" title=\"P_{u+1} = P_u + \\gamma (e_{ui}\\cdot Q_i-\\lambda\\cdot P_u)\" />\n",
    "\n",
    "onde $\\gamma$ é a taxa de aprendizagem e $\\lambda$ é o parâmetro de regularização. O erro $(e)$ para o elemento $(u,i)$ é a diferença entre o rating predito e o rating real.\n",
    "<img src=\"https://latex.codecogs.com/gif.latex?e_{ui}=r_{ui}-P_u^TQ_i$&space;&space;$(5)\" title=\"e_{ui}=r_{ui}-p_u^Tq_i\" />\n",
    "\n",
    "Iniciamos definindo os parâmetros do algoritmo $\\lambda$ (peso de regularização) e $k$ (dimensionalidade do espaço de fatores latentes), também iniciando as matrizes de fatores latentes $P$ e $Q$."
   ]
  },
  {
   "cell_type": "code",
   "execution_count": 5,
   "metadata": {
    "collapsed": true
   },
   "outputs": [],
   "source": [
    "lmbda = 0.1 # Regularisation weight\n",
    "k = 20  # Dimensionality of the latent feature space\n",
    "m, n = R.shape  # Number of users and items\n",
    "n_epochs = 100  # Number of epochs\n",
    "gamma=0.01  # Learning rate\n",
    "\n",
    "P = 3 * np.random.rand(k,m) # Latent user feature matrix\n",
    "Q = 3 * np.random.rand(k,n) # Latent movie feature matrix"
   ]
  },
  {
   "cell_type": "markdown",
   "metadata": {},
   "source": [
    "Existem várias métricas de avaliação, mas uma das mais populares utilizadas para avaliar a acurácia de ratings preditos é o Erro Quadrático Médio (RMSE), que vamos utilizar nesse tutorial:\n",
    "<img src=\"https://latex.codecogs.com/gif.latex?RMSE&space;=\\sqrt{\\frac{1}{N}&space;\\sum&space;(r_i&space;-\\hat{r_i})^2} $&space;&space;$(6)\" title=\"RMSE =\\sqrt{\\frac{1}{N} \\sum (r_i -\\hat{r_i})^2}\" />\n",
    "\n",
    "onde $N$ é o número de observações (linhas), $r_i$ é o rating real para a observação (linha) $i$ e $\\hat{r_i}$ é o rating predito.\n",
    "Como desejamos considerar apenas os ratings preditos que estão presentes nos conjuntos de treino e teste, filtramos todos os outros ratings na matriz de predição usando ``I`` e ``R[R > 0]``."
   ]
  },
  {
   "cell_type": "code",
   "execution_count": 6,
   "metadata": {
    "collapsed": true
   },
   "outputs": [],
   "source": [
    "# Calculate the RMSE\n",
    "def rmse(I,R,Q,P):\n",
    "    return np.sqrt(np.sum((I * (R - prediction(P,Q)))**2)/len(R[R > 0]))"
   ]
  },
  {
   "cell_type": "markdown",
   "metadata": {},
   "source": [
    "Agora implementaremos o SGD-WR onde utilizaremos as equações ``(3)``, ``(4)``, ``(5)`` definidas anteriormente."
   ]
  },
  {
   "cell_type": "code",
   "execution_count": 7,
   "metadata": {},
   "outputs": [
    {
     "name": "stdout",
     "output_type": "stream",
     "text": [
      "[Epoch 1/100] train error: 3.757374, test error: 3.729510\n",
      "[Epoch 2/100] train error: 2.527801, test error: 2.725482\n",
      "[Epoch 3/100] train error: 2.178680, test error: 2.387775\n",
      "[Epoch 4/100] train error: 1.952283, test error: 2.160061\n",
      "[Epoch 5/100] train error: 1.774671, test error: 1.982352\n",
      "[Epoch 6/100] train error: 1.625151, test error: 1.835272\n",
      "[Epoch 7/100] train error: 1.497437, test error: 1.711932\n",
      "[Epoch 8/100] train error: 1.390087, test error: 1.609987\n",
      "[Epoch 9/100] train error: 1.301532, test error: 1.527047\n",
      "[Epoch 10/100] train error: 1.229141, test error: 1.459911\n",
      "[Epoch 11/100] train error: 1.169887, test error: 1.405270\n",
      "[Epoch 12/100] train error: 1.121002, test error: 1.360291\n",
      "[Epoch 13/100] train error: 1.080253, test error: 1.322779\n",
      "[Epoch 14/100] train error: 1.045931, test error: 1.291103\n",
      "[Epoch 15/100] train error: 1.016737, test error: 1.264049\n",
      "[Epoch 16/100] train error: 0.991673, test error: 1.240705\n",
      "[Epoch 17/100] train error: 0.969967, test error: 1.220367\n",
      "[Epoch 18/100] train error: 0.951010, test error: 1.202493\n",
      "[Epoch 19/100] train error: 0.934328, test error: 1.186659\n",
      "[Epoch 20/100] train error: 0.919545, test error: 1.172535\n",
      "[Epoch 21/100] train error: 0.906364, test error: 1.159857\n",
      "[Epoch 22/100] train error: 0.894545, test error: 1.148417\n",
      "[Epoch 23/100] train error: 0.883894, test error: 1.138045\n",
      "[Epoch 24/100] train error: 0.874253, test error: 1.128605\n",
      "[Epoch 25/100] train error: 0.865489, test error: 1.119980\n",
      "[Epoch 26/100] train error: 0.857490, test error: 1.112075\n",
      "[Epoch 27/100] train error: 0.850164, test error: 1.104809\n",
      "[Epoch 28/100] train error: 0.843428, test error: 1.098111\n",
      "[Epoch 29/100] train error: 0.837214, test error: 1.091922\n",
      "[Epoch 30/100] train error: 0.831462, test error: 1.086190\n",
      "[Epoch 31/100] train error: 0.826122, test error: 1.080869\n",
      "[Epoch 32/100] train error: 0.821147, test error: 1.075919\n",
      "[Epoch 33/100] train error: 0.816501, test error: 1.071306\n",
      "[Epoch 34/100] train error: 0.812148, test error: 1.066998\n",
      "[Epoch 35/100] train error: 0.808060, test error: 1.062968\n",
      "[Epoch 36/100] train error: 0.804210, test error: 1.059193\n",
      "[Epoch 37/100] train error: 0.800577, test error: 1.055650\n",
      "[Epoch 38/100] train error: 0.797140, test error: 1.052320\n",
      "[Epoch 39/100] train error: 0.793883, test error: 1.049185\n",
      "[Epoch 40/100] train error: 0.790789, test error: 1.046231\n",
      "[Epoch 41/100] train error: 0.787846, test error: 1.043443\n",
      "[Epoch 42/100] train error: 0.785040, test error: 1.040809\n",
      "[Epoch 43/100] train error: 0.782362, test error: 1.038317\n",
      "[Epoch 44/100] train error: 0.779801, test error: 1.035957\n",
      "[Epoch 45/100] train error: 0.777350, test error: 1.033719\n",
      "[Epoch 46/100] train error: 0.775000, test error: 1.031596\n",
      "[Epoch 47/100] train error: 0.772744, test error: 1.029579\n",
      "[Epoch 48/100] train error: 0.770576, test error: 1.027661\n",
      "[Epoch 49/100] train error: 0.768491, test error: 1.025836\n",
      "[Epoch 50/100] train error: 0.766484, test error: 1.024098\n",
      "[Epoch 51/100] train error: 0.764548, test error: 1.022441\n",
      "[Epoch 52/100] train error: 0.762682, test error: 1.020861\n",
      "[Epoch 53/100] train error: 0.760880, test error: 1.019352\n",
      "[Epoch 54/100] train error: 0.759138, test error: 1.017911\n",
      "[Epoch 55/100] train error: 0.757454, test error: 1.016534\n",
      "[Epoch 56/100] train error: 0.755825, test error: 1.015217\n",
      "[Epoch 57/100] train error: 0.754247, test error: 1.013956\n",
      "[Epoch 58/100] train error: 0.752719, test error: 1.012749\n",
      "[Epoch 59/100] train error: 0.751237, test error: 1.011593\n",
      "[Epoch 60/100] train error: 0.749799, test error: 1.010484\n",
      "[Epoch 61/100] train error: 0.748404, test error: 1.009421\n",
      "[Epoch 62/100] train error: 0.747049, test error: 1.008401\n",
      "[Epoch 63/100] train error: 0.745732, test error: 1.007422\n",
      "[Epoch 64/100] train error: 0.744453, test error: 1.006481\n",
      "[Epoch 65/100] train error: 0.743208, test error: 1.005578\n",
      "[Epoch 66/100] train error: 0.741996, test error: 1.004709\n",
      "[Epoch 67/100] train error: 0.740817, test error: 1.003873\n",
      "[Epoch 68/100] train error: 0.739669, test error: 1.003069\n",
      "[Epoch 69/100] train error: 0.738550, test error: 1.002295\n",
      "[Epoch 70/100] train error: 0.737459, test error: 1.001550\n",
      "[Epoch 71/100] train error: 0.736395, test error: 1.000831\n",
      "[Epoch 72/100] train error: 0.735357, test error: 1.000139\n",
      "[Epoch 73/100] train error: 0.734344, test error: 0.999472\n",
      "[Epoch 74/100] train error: 0.733355, test error: 0.998828\n",
      "[Epoch 75/100] train error: 0.732389, test error: 0.998206\n",
      "[Epoch 76/100] train error: 0.731445, test error: 0.997607\n",
      "[Epoch 77/100] train error: 0.730522, test error: 0.997027\n",
      "[Epoch 78/100] train error: 0.729620, test error: 0.996468\n",
      "[Epoch 79/100] train error: 0.728738, test error: 0.995927\n",
      "[Epoch 80/100] train error: 0.727874, test error: 0.995404\n",
      "[Epoch 81/100] train error: 0.727030, test error: 0.994898\n",
      "[Epoch 82/100] train error: 0.726202, test error: 0.994409\n",
      "[Epoch 83/100] train error: 0.725392, test error: 0.993935\n",
      "[Epoch 84/100] train error: 0.724599, test error: 0.993476\n",
      "[Epoch 85/100] train error: 0.723821, test error: 0.993032\n",
      "[Epoch 86/100] train error: 0.723059, test error: 0.992602\n",
      "[Epoch 87/100] train error: 0.722312, test error: 0.992185\n",
      "[Epoch 88/100] train error: 0.721580, test error: 0.991780\n",
      "[Epoch 89/100] train error: 0.720862, test error: 0.991388\n",
      "[Epoch 90/100] train error: 0.720157, test error: 0.991008\n",
      "[Epoch 91/100] train error: 0.719466, test error: 0.990638\n",
      "[Epoch 92/100] train error: 0.718787, test error: 0.990280\n",
      "[Epoch 93/100] train error: 0.718121, test error: 0.989932\n",
      "[Epoch 94/100] train error: 0.717468, test error: 0.989594\n",
      "[Epoch 95/100] train error: 0.716826, test error: 0.989265\n",
      "[Epoch 96/100] train error: 0.716195, test error: 0.988946\n",
      "[Epoch 97/100] train error: 0.715576, test error: 0.988636\n",
      "[Epoch 98/100] train error: 0.714968, test error: 0.988334\n",
      "[Epoch 99/100] train error: 0.714371, test error: 0.988041\n",
      "[Epoch 100/100] train error: 0.713784, test error: 0.987755\n",
      "Algorithm converged\n"
     ]
    }
   ],
   "source": [
    "train_errors = []\n",
    "test_errors = []\n",
    "\n",
    "#Only consider non-zero matrix \n",
    "users,items = R.nonzero()      \n",
    "for epoch in range(n_epochs):\n",
    "    for u, i in zip(users,items):\n",
    "        e = R[u, i] - prediction(P[:,u],Q[:,i])  # Calculate error for gradient\n",
    "        P[:,u] += gamma * ( e * Q[:,i] - lmbda * P[:,u]) # Update latent user feature matrix\n",
    "        Q[:,i] += gamma * ( e * P[:,u] - lmbda * Q[:,i])  # Update latent movie feature matrix\n",
    "    train_rmse = rmse(I,R,Q,P) # Calculate root mean squared error from train dataset\n",
    "    test_rmse = rmse(I2,T,Q,P) # Calculate root mean squared error from test dataset\n",
    "    train_errors.append(train_rmse)\n",
    "    test_errors.append(test_rmse)\n",
    "    \n",
    "    print (\"[Epoch %d/%d] train error: %f, test error: %f\" \\\n",
    "    %(epoch+1, n_epochs, train_rmse, test_rmse))\n",
    "\n",
    "print(\"Algorithm converged\")"
   ]
  },
  {
   "cell_type": "markdown",
   "metadata": {},
   "source": [
    "Como foram guardados todos os  ``train_errors`` e ``test_errors`` para cada época, podemos plotar as curva de aprendizagem do algoritmo SGD-WR."
   ]
  },
  {
   "cell_type": "code",
   "execution_count": 8,
   "metadata": {},
   "outputs": [
    {
     "data": {
      "image/png": "[encoded data removed]",
      "text/plain": [
       "<matplotlib.figure.Figure at 0x1a0d904e80>"
      ]
     },
     "metadata": {},
     "output_type": "display_data"
    }
   ],
   "source": [
    "# Check performance by plotting train and test errors\n",
    "import matplotlib.pyplot as plt\n",
    "%matplotlib inline\n",
    "\n",
    "plt.plot(range(n_epochs), train_errors, marker='o', label='Training Data');\n",
    "plt.plot(range(n_epochs), test_errors, marker='v', label='Test Data');\n",
    "plt.title('SGD-WR Learning Curve')\n",
    "plt.xlabel('Number of Epochs');\n",
    "plt.ylabel('RMSE');\n",
    "plt.legend()\n",
    "plt.grid()\n",
    "plt.show()"
   ]
  },
  {
   "cell_type": "markdown",
   "metadata": {},
   "source": [
    "O modelo parece se comportar muito bem, com um RMSE relativamente baixo apor convergir. A performance pode ser influenciada através da calibragem dos parâmetros $\\lambda$, $\\gamma$ and $k$.\n",
    "\n",
    "\n",
    "A seguir tu podes comparar o rating real com o rating predito. Para isso, primeiro calcula-se a matriz de rating preditos - para a qual utilizaremos a função ``prediction`` que foi definida anteriormente, e converter a matriz em um dataframe para facilitar o uso. <img src=\"https://latex.codecogs.com/gif.latex?\\hat&space;r_{ui}=P_u^TQ_i$&space;&space;$(2)\" title=\"\\hat r_{ui}=p_u^Tq_i\" /> "
   ]
  },
  {
   "cell_type": "code",
   "execution_count": 9,
   "metadata": {
    "collapsed": true
   },
   "outputs": [],
   "source": [
    "# Calculate prediction matrix R_hat (low-rank approximation for R)\n",
    "R = pd.DataFrame(R)\n",
    "R_hat=pd.DataFrame(prediction(P,Q))"
   ]
  },
  {
   "cell_type": "markdown",
   "metadata": {},
   "source": [
    "Para se ter uma ideia do que foi atingido, vamos comparar algumas de nossas predições para o usuário ``29`` com seus ratings reais."
   ]
  },
  {
   "cell_type": "code",
   "execution_count": 10,
   "metadata": {},
   "outputs": [
    {
     "data": {
      "text/html": [
       "<div>\n",
       "<style>\n",
       "    .dataframe thead tr:only-child th {\n",
       "        text-align: right;\n",
       "    }\n",
       "\n",
       "    .dataframe thead th {\n",
       "        text-align: left;\n",
       "    }\n",
       "\n",
       "    .dataframe tbody tr th {\n",
       "        vertical-align: top;\n",
       "    }\n",
       "</style>\n",
       "<table border=\"1\" class=\"dataframe\">\n",
       "  <thead>\n",
       "    <tr style=\"text-align: right;\">\n",
       "      <th></th>\n",
       "      <th>Actual Rating</th>\n",
       "      <th>Predicted Rating</th>\n",
       "    </tr>\n",
       "  </thead>\n",
       "  <tbody>\n",
       "    <tr>\n",
       "      <th>11</th>\n",
       "      <td>5.0</td>\n",
       "      <td>4.641876</td>\n",
       "    </tr>\n",
       "    <tr>\n",
       "      <th>78</th>\n",
       "      <td>4.0</td>\n",
       "      <td>3.901989</td>\n",
       "    </tr>\n",
       "    <tr>\n",
       "      <th>97</th>\n",
       "      <td>4.0</td>\n",
       "      <td>4.250651</td>\n",
       "    </tr>\n",
       "    <tr>\n",
       "      <th>179</th>\n",
       "      <td>4.0</td>\n",
       "      <td>4.175654</td>\n",
       "    </tr>\n",
       "    <tr>\n",
       "      <th>181</th>\n",
       "      <td>4.0</td>\n",
       "      <td>3.828347</td>\n",
       "    </tr>\n",
       "  </tbody>\n",
       "</table>\n",
       "</div>"
      ],
      "text/plain": [
       "     Actual Rating  Predicted Rating\n",
       "11             5.0          4.641876\n",
       "78             4.0          3.901989\n",
       "97             4.0          4.250651\n",
       "179            4.0          4.175654\n",
       "181            4.0          3.828347"
      ]
     },
     "execution_count": 10,
     "metadata": {},
     "output_type": "execute_result"
    }
   ],
   "source": [
    "# Compare true ratings of user 17 with predictions\n",
    "ratings = pd.DataFrame(data=R.loc[28,R.loc[28,:] > 0]).head(n=5)\n",
    "ratings['Prediction'] = R_hat.loc[28,R.loc[28,:] > 0]\n",
    "ratings.columns = ['Actual Rating', 'Predicted Rating']\n",
    "ratings"
   ]
  },
  {
   "cell_type": "markdown",
   "metadata": {},
   "source": [
    "## Referências\n",
    "- [Koren et al. (2009)](http://citeseer.ist.psu.edu/viewdoc/download;jsessionid=8413B85890576DE006023342D58E8E67?doi=10.1.1.147.8295&rep=rep1&type=pdf) Koren, Y., Bell, R.M., Volinsky, C.: Matrix factorization techniques for recommender systems. IEEE Computer 42(8), 30–37 (2009) 32 Francesco Ricci, Lior Rokach and Bracha Shapira"
   ]
  },
  {
   "cell_type": "markdown",
   "metadata": {},
   "source": [
    "<hr>\n",
    "<strong>Este tutorial foi adaptado a partir do tutorial de Agnes Johannsdottir e Moritz Haller.</strong>\n",
    "\n",
    "Agnes is a master student in Business Analytics at University College London. She studied Management Engineering in Iceland and worked for 2 years as an IT consultant in supply chain. Her main interests lie in using data science methods (especially machine learning) to apply in Retail and Supply Chain businesses.\n",
    "\n",
    "Moritz has spent the past years in industry, working on business intelligence applications with the company he co-founded. He holds a BSc in Computer Science and is currently pursuing an MSc in Computer Science at University College London. His main interests lie in probabilistic modelling and machine learning."
   ]
  },
  {
   "cell_type": "code",
   "execution_count": null,
   "metadata": {
    "collapsed": true
   },
   "outputs": [],
   "source": []
  }
 ],
 "metadata": {
  "kernelspec": {
   "display_name": "Python 3",
   "language": "python",
   "name": "python3"
  },
  "language_info": {
   "codemirror_mode": {
    "name": "ipython",
    "version": 3
   },
   "file_extension": ".py",
   "mimetype": "text/x-python",
   "name": "python",
   "nbconvert_exporter": "python",
   "pygments_lexer": "ipython3",
   "version": "3.6.3"
  }
 },
 "nbformat": 4,
 "nbformat_minor": 1
}
